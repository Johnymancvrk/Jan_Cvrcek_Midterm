{
 "cells": [
  {
   "cell_type": "code",
   "execution_count": 92,
   "metadata": {},
   "outputs": [],
   "source": [
    "import numpy as np \n",
    "import pandas as pd\n",
    "import matplotlib.pyplot as plt\n",
    "import requests\n",
    "from bs4 import BeautifulSoup\n",
    "from lxml import html\n",
    "import tqdm\n",
    "import time\n",
    "import quandl\n",
    "import pprint\n",
    "pip install simplejson\n",
    "import simplejson\n",
    "import json"
   ]
  },
  {
   "cell_type": "code",
   "execution_count": 4,
   "metadata": {},
   "outputs": [],
   "source": [
    "#r = requests.get('https://www.quandl.com/api/v3/datasets/WIKI/FB/data.json?api_key={}'.format(QUANDL_API_KEY))"
   ]
  },
  {
   "cell_type": "markdown",
   "metadata": {},
   "source": [
    "# Part 1 - Scraping"
   ]
  },
  {
   "cell_type": "markdown",
   "metadata": {},
   "source": [
    "#### Getting the soup"
   ]
  },
  {
   "cell_type": "code",
   "execution_count": 16,
   "metadata": {},
   "outputs": [
    {
     "data": {
      "text/plain": [
       "200"
      ]
     },
     "execution_count": 16,
     "metadata": {},
     "output_type": "execute_result"
    }
   ],
   "source": [
    "r = requests.get('https://en.wikipedia.org/wiki/FTSE_100_Index')\n",
    "r.encoding = 'UTF-8'\n",
    "soup = BeautifulSoup(r.text)\n",
    "r.status_code"
   ]
  },
  {
   "cell_type": "code",
   "execution_count": 62,
   "metadata": {},
   "outputs": [],
   "source": [
    "def Company():\n",
    "    '''\n",
    "    getting the company names\n",
    "    '''\n",
    "    firm = []\n",
    "    names = [a.text.split('\\n') for a in soup.find('table',{'id':'constituents'}).tbody.find_all('tr')]\n",
    "    for name in names[1:]:\n",
    "        firm.append(name[1])\n",
    "    return firm\n"
   ]
  },
  {
   "cell_type": "code",
   "execution_count": 63,
   "metadata": {},
   "outputs": [],
   "source": [
    "def Epic():\n",
    "    '''\n",
    "    getting the company EPIC\n",
    "    '''\n",
    "    thickers = []\n",
    "    names = [a.text.split('\\n') for a in soup.find('table',{'id':'constituents'}).tbody.find_all('tr')]\n",
    "    for name in names[1:]:\n",
    "        thickers.append(name[2])\n",
    "    return thickers\n"
   ]
  },
  {
   "cell_type": "code",
   "execution_count": 65,
   "metadata": {},
   "outputs": [],
   "source": [
    "def Industry():\n",
    "    '''\n",
    "    getting the company industry they operate in\n",
    "    '''\n",
    "    branch = []\n",
    "    names = [a.text.split('\\n') for a in soup.find('table',{'id':'constituents'}).tbody.find_all('tr')]\n",
    "    for name in names[1:]:\n",
    "          branch.append(name[3])\n",
    "    return branch"
   ]
  },
  {
   "cell_type": "code",
   "execution_count": 72,
   "metadata": {},
   "outputs": [
    {
     "data": {
      "text/html": [
       "<div>\n",
       "<style scoped>\n",
       "    .dataframe tbody tr th:only-of-type {\n",
       "        vertical-align: middle;\n",
       "    }\n",
       "\n",
       "    .dataframe tbody tr th {\n",
       "        vertical-align: top;\n",
       "    }\n",
       "\n",
       "    .dataframe thead th {\n",
       "        text-align: right;\n",
       "    }\n",
       "</style>\n",
       "<table border=\"1\" class=\"dataframe\">\n",
       "  <thead>\n",
       "    <tr style=\"text-align: right;\">\n",
       "      <th></th>\n",
       "      <th>Company</th>\n",
       "      <th>EPIC</th>\n",
       "      <th>Industry</th>\n",
       "    </tr>\n",
       "  </thead>\n",
       "  <tbody>\n",
       "    <tr>\n",
       "      <td>0</td>\n",
       "      <td>3i</td>\n",
       "      <td>III</td>\n",
       "      <td>Financial Services</td>\n",
       "    </tr>\n",
       "    <tr>\n",
       "      <td>1</td>\n",
       "      <td>Admiral Group</td>\n",
       "      <td>ADM</td>\n",
       "      <td>Nonlife Insurance</td>\n",
       "    </tr>\n",
       "    <tr>\n",
       "      <td>2</td>\n",
       "      <td>Anglo American plc</td>\n",
       "      <td>AAL</td>\n",
       "      <td>Mining</td>\n",
       "    </tr>\n",
       "    <tr>\n",
       "      <td>3</td>\n",
       "      <td>Antofagasta</td>\n",
       "      <td>ANTO</td>\n",
       "      <td>Mining</td>\n",
       "    </tr>\n",
       "    <tr>\n",
       "      <td>4</td>\n",
       "      <td>Ashtead Group</td>\n",
       "      <td>AHT</td>\n",
       "      <td>Support Services</td>\n",
       "    </tr>\n",
       "  </tbody>\n",
       "</table>\n",
       "</div>"
      ],
      "text/plain": [
       "              Company  EPIC            Industry\n",
       "0                  3i   III  Financial Services\n",
       "1       Admiral Group   ADM   Nonlife Insurance\n",
       "2  Anglo American plc   AAL              Mining\n",
       "3         Antofagasta  ANTO              Mining\n",
       "4       Ashtead Group   AHT    Support Services"
      ]
     },
     "execution_count": 72,
     "metadata": {},
     "output_type": "execute_result"
    }
   ],
   "source": [
    "table = pd.DataFrame(Company())\n",
    "table['EPIC'] = Epic()\n",
    "table['Industry'] = Industry()\n",
    "table.columns = [\"Company\", \"EPIC\", \"Industry\"]\n",
    "table.head()"
   ]
  },
  {
   "cell_type": "markdown",
   "metadata": {},
   "source": [
    "## Part 2 - API requests"
   ]
  },
  {
   "cell_type": "code",
   "execution_count": 208,
   "metadata": {},
   "outputs": [],
   "source": [
    "payload = { \"cuni\": \"33921250\" }\n",
    "\n",
    "j = requests.post('https://ies-midterm.soulution.rocks/login', data = payload )\n",
    "\n",
    "# Not able to provide it with a json string"
   ]
  },
  {
   "cell_type": "code",
   "execution_count": 209,
   "metadata": {},
   "outputs": [
    {
     "data": {
      "text/plain": [
       "'{\"data\": {}, \"message\": \"Error [400] - invalid JSON payload. Submit a JSON string.\"}'"
      ]
     },
     "execution_count": 209,
     "metadata": {},
     "output_type": "execute_result"
    }
   ],
   "source": [
    "j.text\n"
   ]
  },
  {
   "cell_type": "code",
   "execution_count": 144,
   "metadata": {},
   "outputs": [],
   "source": []
  },
  {
   "cell_type": "code",
   "execution_count": 140,
   "metadata": {},
   "outputs": [],
   "source": [
    "data = {'cuni':'33921250'}\n",
    "data_json = simplejson.dumps(data)\n",
    "payload = {'json_payload': data_json}\n",
    "j = requests.post('https://ies-midterm.soulution.rocks/login', data=payload)"
   ]
  },
  {
   "cell_type": "code",
   "execution_count": 100,
   "metadata": {},
   "outputs": [
    {
     "name": "stdout",
     "output_type": "stream",
     "text": [
      "{\"message\":\"Missing Authentication Token\"}\n"
     ]
    }
   ],
   "source": [
    "payload = {'cuni':'33921250'}\n",
    "\n",
    "login_route = '/login'\n",
    "url = 'https://ies-midterm.soulution.rocks/'\n",
    "    \n",
    "with requests.Session() as s:\n",
    "    p = s.post(url, data=payload)\n",
    "    print(p.text)"
   ]
  },
  {
   "cell_type": "code",
   "execution_count": null,
   "metadata": {},
   "outputs": [],
   "source": []
  },
  {
   "cell_type": "code",
   "execution_count": 181,
   "metadata": {},
   "outputs": [
    {
     "data": {
      "text/plain": [
       "0               Financial Services\n",
       "1                Nonlife Insurance\n",
       "2                           Mining\n",
       "3                           Mining\n",
       "4                 Support Services\n",
       "                  ...             \n",
       "95                  Personal Goods\n",
       "96    Gas, Water & Multi-utilities\n",
       "97       Mobile Telecommunications\n",
       "98              Retail hospitality\n",
       "99                           Media\n",
       "Name: Industry, Length: 100, dtype: object"
      ]
     },
     "execution_count": 181,
     "metadata": {},
     "output_type": "execute_result"
    }
   ],
   "source": []
  },
  {
   "cell_type": "markdown",
   "metadata": {},
   "source": [
    "## Part 3"
   ]
  },
  {
   "cell_type": "code",
   "execution_count": 182,
   "metadata": {},
   "outputs": [
    {
     "data": {
      "text/html": [
       "<div>\n",
       "<style scoped>\n",
       "    .dataframe tbody tr th:only-of-type {\n",
       "        vertical-align: middle;\n",
       "    }\n",
       "\n",
       "    .dataframe tbody tr th {\n",
       "        vertical-align: top;\n",
       "    }\n",
       "\n",
       "    .dataframe thead th {\n",
       "        text-align: right;\n",
       "    }\n",
       "</style>\n",
       "<table border=\"1\" class=\"dataframe\">\n",
       "  <thead>\n",
       "    <tr style=\"text-align: right;\">\n",
       "      <th></th>\n",
       "      <th>Company</th>\n",
       "      <th>EPIC</th>\n",
       "    </tr>\n",
       "    <tr>\n",
       "      <th>Industry</th>\n",
       "      <th></th>\n",
       "      <th></th>\n",
       "    </tr>\n",
       "  </thead>\n",
       "  <tbody>\n",
       "    <tr>\n",
       "      <td>Aerospace &amp; Defence</td>\n",
       "      <td>2</td>\n",
       "      <td>2</td>\n",
       "    </tr>\n",
       "    <tr>\n",
       "      <td>Asset Managers</td>\n",
       "      <td>1</td>\n",
       "      <td>1</td>\n",
       "    </tr>\n",
       "    <tr>\n",
       "      <td>Automobiles &amp; Parts</td>\n",
       "      <td>1</td>\n",
       "      <td>1</td>\n",
       "    </tr>\n",
       "    <tr>\n",
       "      <td>Banks</td>\n",
       "      <td>5</td>\n",
       "      <td>5</td>\n",
       "    </tr>\n",
       "    <tr>\n",
       "      <td>Beverages</td>\n",
       "      <td>2</td>\n",
       "      <td>2</td>\n",
       "    </tr>\n",
       "    <tr>\n",
       "      <td>Chemicals</td>\n",
       "      <td>2</td>\n",
       "      <td>2</td>\n",
       "    </tr>\n",
       "    <tr>\n",
       "      <td>Construction &amp; Materials</td>\n",
       "      <td>1</td>\n",
       "      <td>1</td>\n",
       "    </tr>\n",
       "    <tr>\n",
       "      <td>Consumer services</td>\n",
       "      <td>1</td>\n",
       "      <td>1</td>\n",
       "    </tr>\n",
       "    <tr>\n",
       "      <td>Electricity</td>\n",
       "      <td>1</td>\n",
       "      <td>1</td>\n",
       "    </tr>\n",
       "    <tr>\n",
       "      <td>Electronic &amp; Electrical Equipment</td>\n",
       "      <td>1</td>\n",
       "      <td>1</td>\n",
       "    </tr>\n",
       "    <tr>\n",
       "      <td>Equity Investment Instruments</td>\n",
       "      <td>1</td>\n",
       "      <td>1</td>\n",
       "    </tr>\n",
       "    <tr>\n",
       "      <td>Financial Services</td>\n",
       "      <td>5</td>\n",
       "      <td>5</td>\n",
       "    </tr>\n",
       "    <tr>\n",
       "      <td>Fixed Line Telecommunications</td>\n",
       "      <td>1</td>\n",
       "      <td>1</td>\n",
       "    </tr>\n",
       "    <tr>\n",
       "      <td>Food &amp; Drug Retailers</td>\n",
       "      <td>4</td>\n",
       "      <td>4</td>\n",
       "    </tr>\n",
       "    <tr>\n",
       "      <td>Food Producers</td>\n",
       "      <td>1</td>\n",
       "      <td>1</td>\n",
       "    </tr>\n",
       "    <tr>\n",
       "      <td>Forestry &amp; Paper</td>\n",
       "      <td>1</td>\n",
       "      <td>1</td>\n",
       "    </tr>\n",
       "    <tr>\n",
       "      <td>Gas, Water &amp; Multi-utilities</td>\n",
       "      <td>3</td>\n",
       "      <td>3</td>\n",
       "    </tr>\n",
       "    <tr>\n",
       "      <td>General Industrials</td>\n",
       "      <td>3</td>\n",
       "      <td>3</td>\n",
       "    </tr>\n",
       "    <tr>\n",
       "      <td>General Retailers</td>\n",
       "      <td>2</td>\n",
       "      <td>2</td>\n",
       "    </tr>\n",
       "    <tr>\n",
       "      <td>Health Care Equipment &amp; Services</td>\n",
       "      <td>1</td>\n",
       "      <td>1</td>\n",
       "    </tr>\n",
       "    <tr>\n",
       "      <td>Household Goods &amp; Home Construction</td>\n",
       "      <td>5</td>\n",
       "      <td>5</td>\n",
       "    </tr>\n",
       "    <tr>\n",
       "      <td>Industrial Engineering</td>\n",
       "      <td>1</td>\n",
       "      <td>1</td>\n",
       "    </tr>\n",
       "    <tr>\n",
       "      <td>Industrial Metals &amp; Mining</td>\n",
       "      <td>1</td>\n",
       "      <td>1</td>\n",
       "    </tr>\n",
       "    <tr>\n",
       "      <td>Investment Services</td>\n",
       "      <td>1</td>\n",
       "      <td>1</td>\n",
       "    </tr>\n",
       "    <tr>\n",
       "      <td>Life Insurance</td>\n",
       "      <td>5</td>\n",
       "      <td>5</td>\n",
       "    </tr>\n",
       "    <tr>\n",
       "      <td>Media</td>\n",
       "      <td>6</td>\n",
       "      <td>6</td>\n",
       "    </tr>\n",
       "    <tr>\n",
       "      <td>Mining</td>\n",
       "      <td>6</td>\n",
       "      <td>6</td>\n",
       "    </tr>\n",
       "    <tr>\n",
       "      <td>Mobile Telecommunications</td>\n",
       "      <td>1</td>\n",
       "      <td>1</td>\n",
       "    </tr>\n",
       "    <tr>\n",
       "      <td>Nonlife Insurance</td>\n",
       "      <td>2</td>\n",
       "      <td>2</td>\n",
       "    </tr>\n",
       "    <tr>\n",
       "      <td>Oil &amp; Gas Producers</td>\n",
       "      <td>2</td>\n",
       "      <td>2</td>\n",
       "    </tr>\n",
       "    <tr>\n",
       "      <td>Personal Goods</td>\n",
       "      <td>2</td>\n",
       "      <td>2</td>\n",
       "    </tr>\n",
       "    <tr>\n",
       "      <td>Pharmaceuticals &amp; Biotechnology</td>\n",
       "      <td>3</td>\n",
       "      <td>3</td>\n",
       "    </tr>\n",
       "    <tr>\n",
       "      <td>Precious Metals and Mining</td>\n",
       "      <td>1</td>\n",
       "      <td>1</td>\n",
       "    </tr>\n",
       "    <tr>\n",
       "      <td>Real Estate Investment Trusts</td>\n",
       "      <td>3</td>\n",
       "      <td>3</td>\n",
       "    </tr>\n",
       "    <tr>\n",
       "      <td>Retail hospitality</td>\n",
       "      <td>1</td>\n",
       "      <td>1</td>\n",
       "    </tr>\n",
       "    <tr>\n",
       "      <td>Retailers</td>\n",
       "      <td>2</td>\n",
       "      <td>2</td>\n",
       "    </tr>\n",
       "    <tr>\n",
       "      <td>Software &amp; Computer Services</td>\n",
       "      <td>2</td>\n",
       "      <td>2</td>\n",
       "    </tr>\n",
       "    <tr>\n",
       "      <td>Software and Computer Services</td>\n",
       "      <td>2</td>\n",
       "      <td>2</td>\n",
       "    </tr>\n",
       "    <tr>\n",
       "      <td>Support Services</td>\n",
       "      <td>8</td>\n",
       "      <td>8</td>\n",
       "    </tr>\n",
       "    <tr>\n",
       "      <td>Tobacco</td>\n",
       "      <td>2</td>\n",
       "      <td>2</td>\n",
       "    </tr>\n",
       "    <tr>\n",
       "      <td>Travel &amp; Leisure</td>\n",
       "      <td>3</td>\n",
       "      <td>3</td>\n",
       "    </tr>\n",
       "    <tr>\n",
       "      <td>Travel and Leisure</td>\n",
       "      <td>1</td>\n",
       "      <td>1</td>\n",
       "    </tr>\n",
       "    <tr>\n",
       "      <td>Water</td>\n",
       "      <td>1</td>\n",
       "      <td>1</td>\n",
       "    </tr>\n",
       "  </tbody>\n",
       "</table>\n",
       "</div>"
      ],
      "text/plain": [
       "                                     Company  EPIC\n",
       "Industry                                          \n",
       "Aerospace & Defence                        2     2\n",
       "Asset Managers                             1     1\n",
       "Automobiles & Parts                        1     1\n",
       "Banks                                      5     5\n",
       "Beverages                                  2     2\n",
       "Chemicals                                  2     2\n",
       "Construction & Materials                   1     1\n",
       "Consumer services                          1     1\n",
       "Electricity                                1     1\n",
       "Electronic & Electrical Equipment          1     1\n",
       "Equity Investment Instruments              1     1\n",
       "Financial Services                         5     5\n",
       "Fixed Line Telecommunications              1     1\n",
       "Food & Drug Retailers                      4     4\n",
       "Food Producers                             1     1\n",
       "Forestry & Paper                           1     1\n",
       "Gas, Water & Multi-utilities               3     3\n",
       "General Industrials                        3     3\n",
       "General Retailers                          2     2\n",
       "Health Care Equipment & Services           1     1\n",
       "Household Goods & Home Construction        5     5\n",
       "Industrial Engineering                     1     1\n",
       "Industrial Metals & Mining                 1     1\n",
       "Investment Services                        1     1\n",
       "Life Insurance                             5     5\n",
       "Media                                      6     6\n",
       "Mining                                     6     6\n",
       "Mobile Telecommunications                  1     1\n",
       "Nonlife Insurance                          2     2\n",
       "Oil & Gas Producers                        2     2\n",
       "Personal Goods                             2     2\n",
       "Pharmaceuticals & Biotechnology            3     3\n",
       "Precious Metals and Mining                 1     1\n",
       "Real Estate Investment Trusts              3     3\n",
       "Retail hospitality                         1     1\n",
       "Retailers                                  2     2\n",
       "Software & Computer Services               2     2\n",
       "Software and Computer Services             2     2\n",
       "Support Services                           8     8\n",
       "Tobacco                                    2     2\n",
       "Travel & Leisure                           3     3\n",
       "Travel and Leisure                         1     1\n",
       "Water                                      1     1"
      ]
     },
     "execution_count": 182,
     "metadata": {},
     "output_type": "execute_result"
    }
   ],
   "source": [
    "t = table.groupby('Industry').count()\n",
    "t"
   ]
  },
  {
   "cell_type": "code",
   "execution_count": 158,
   "metadata": {},
   "outputs": [],
   "source": [
    "t = pd.DataFrame(t['Company'])\n"
   ]
  },
  {
   "cell_type": "code",
   "execution_count": 186,
   "metadata": {},
   "outputs": [
    {
     "data": {
      "text/plain": [
       "Company    8\n",
       "EPIC       8\n",
       "dtype: int64"
      ]
     },
     "execution_count": 186,
     "metadata": {},
     "output_type": "execute_result"
    }
   ],
   "source": [
    "t.max()"
   ]
  },
  {
   "cell_type": "code",
   "execution_count": null,
   "metadata": {},
   "outputs": [],
   "source": []
  }
 ],
 "metadata": {
  "kernelspec": {
   "display_name": "Python 3",
   "language": "python",
   "name": "python3"
  },
  "language_info": {
   "codemirror_mode": {
    "name": "ipython",
    "version": 3
   },
   "file_extension": ".py",
   "mimetype": "text/x-python",
   "name": "python",
   "nbconvert_exporter": "python",
   "pygments_lexer": "ipython3",
   "version": "3.7.4"
  }
 },
 "nbformat": 4,
 "nbformat_minor": 2
}
